{
 "cells": [
  {
   "cell_type": "code",
   "execution_count": null,
   "metadata": {},
   "outputs": [],
   "source": [
    "from IPython.core.display import display, HTML\n",
    "display(HTML(\"<style>.container { width:100% !important; }</style>\"))"
   ]
  },
  {
   "cell_type": "code",
   "execution_count": null,
   "metadata": {
    "scrolled": false
   },
   "outputs": [],
   "source": [
    "import os\n",
    "import gym\n",
    "import numpy as np\n",
    "from sac_discrete import Agent\n",
    "from utils import plot_learning_curve\n",
    "\n",
    "MAIN_DIR = 'C:\\\\Users\\\\ss3337\\\\Desktop\\\\saurav_data\\\\Continuous_SAC_tester\\\\SAC_tf2_Discrete'\n",
    "#MAIN_DIR = 'C:\\\\Users\\\\saura\\\\OneDrive\\\\Desktop\\\\Research\\\\ContinuousTaskSAC\\\\SAC_tf2_Discrete'\n",
    "HIST_LEN = 100\n",
    "\n",
    "if __name__ == '__main__':\n",
    "    #env_id = 'LunarLander-v2'\n",
    "    env_id = 'CartPole-v0'\n",
    "    #env_id = 'MountainCar-v0'\n",
    "    env = gym.make(env_id)\n",
    "    agent = Agent(obs_dim=env.observation_space.shape[0], act_dim=env.action_space.n, replay_max_size=50_000, lr=[0.005, 0.00003],\n",
    "                        env_id=env_id, save_path=os.path.join(MAIN_DIR, 'Models'))\n",
    "    #agent.save_models()\n",
    "    #agent.save_replay_memory()\n",
    "    n_games = 10\n",
    "    filename = env_id + '_'+ str(n_games) + '_clamp_on_sigma.png'\n",
    "    figure_file = os.path.join(MAIN_DIR, 'plots/' + filename)\n",
    "\n",
    "    best_score = env.reward_range[0]\n",
    "    score_history = []\n",
    "    load_checkpoint = True\n",
    "    if load_checkpoint:\n",
    "        agent.load_models()\n",
    "        #env.render(mode='human')\n",
    "    #agent.load_models()\n",
    "    steps = 0\n",
    "    for i in range(n_games):\n",
    "        observation = env.reset()\n",
    "        done = False\n",
    "        score = 0\n",
    "        while not done:\n",
    "            if not load_checkpoint:\n",
    "                action = agent.get_action(observation)\n",
    "            else:\n",
    "                action = agent.get_action(observation, deterministic=True)\n",
    "            observation_, reward, done, info = env.step(action)\n",
    "            steps += 1\n",
    "            agent.remember(observation, action, reward, observation_, done)\n",
    "            if not load_checkpoint:\n",
    "                agent.learn()\n",
    "            else:\n",
    "                env.render()\n",
    "            score += reward\n",
    "            observation = observation_\n",
    "        score_history.append(score)\n",
    "        avg_score = np.mean(score_history[-HIST_LEN:])\n",
    "\n",
    "        if avg_score > best_score:\n",
    "            best_score = avg_score\n",
    "            if not load_checkpoint:\n",
    "                pass #agent.save_models()\n",
    "\n",
    "        print(f'Episode {i} | Score {round(score, 1)} | {HIST_LEN} Game Avg {round(avg_score, 1)} | Steps {steps} | {env_id} | Alpha {agent.alpha.numpy()} | Log Alpha {agent.log_alpha.numpy()}')\n",
    "\n",
    "    x = [i+1 for i in range(n_games)]\n",
    "    plot_learning_curve(x, score_history, figure_file, hist_len=HIST_LEN)\n",
    "        \n",
    "    if not load_checkpoint:\n",
    "        agent.save_models()\n",
    "        agent.save_replay_memory()"
   ]
  },
  {
   "cell_type": "code",
   "execution_count": null,
   "metadata": {},
   "outputs": [],
   "source": [
    "agent.save_models()\n",
    "agent.save_replay_memory()"
   ]
  },
  {
   "cell_type": "code",
   "execution_count": null,
   "metadata": {},
   "outputs": [],
   "source": []
  }
 ],
 "metadata": {
  "kernelspec": {
   "display_name": "Python 3 (ipykernel)",
   "language": "python",
   "name": "python3"
  },
  "language_info": {
   "codemirror_mode": {
    "name": "ipython",
    "version": 3
   },
   "file_extension": ".py",
   "mimetype": "text/x-python",
   "name": "python",
   "nbconvert_exporter": "python",
   "pygments_lexer": "ipython3",
   "version": "3.7.11"
  }
 },
 "nbformat": 4,
 "nbformat_minor": 4
}
